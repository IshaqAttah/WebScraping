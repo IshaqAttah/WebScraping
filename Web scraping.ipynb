{
 "cells": [
  {
   "cell_type": "code",
   "execution_count": 1,
   "id": "ffc68cd7",
   "metadata": {},
   "outputs": [],
   "source": [
    "import requests\n",
    "from bs4 import BeautifulSoup\n",
    "import pandas as pd"
   ]
  },
  {
   "cell_type": "code",
   "execution_count": 2,
   "id": "16f4068d",
   "metadata": {},
   "outputs": [],
   "source": [
    "url = \"https://web.archive.org/web/20200318083015/https://en.wikipedia.org/wiki/List_of_largest_banks\"\n",
    "response = requests.get(url)"
   ]
  },
  {
   "cell_type": "code",
   "execution_count": 3,
   "id": "62d62587",
   "metadata": {},
   "outputs": [],
   "source": [
    "soup = BeautifulSoup(response.text, 'html.parser')"
   ]
  },
  {
   "cell_type": "code",
   "execution_count": 4,
   "id": "602ece04",
   "metadata": {},
   "outputs": [],
   "source": [
    "table = soup.find('table', class_='wikitable')"
   ]
  },
  {
   "cell_type": "code",
   "execution_count": 5,
   "id": "8dfe3a9d",
   "metadata": {},
   "outputs": [],
   "source": [
    "bank_names = []\n",
    "market_caps = []\n",
    "for row in table.find_all('tr')[1:]:  # Skip the header row (index 0)\n",
    "    columns = row.find_all('td')\n",
    "    if len(columns) >= 2:  # Ensure there are at least two columns\n",
    "        name = columns[1].text.strip()  # Extract bank name (column 2)\n",
    "        cap = columns[2].text.strip()   # Extract market cap (column 3)\n",
    "        bank_names.append(name)\n",
    "        market_caps.append(cap)"
   ]
  },
  {
   "cell_type": "code",
   "execution_count": 6,
   "id": "540468f7",
   "metadata": {},
   "outputs": [],
   "source": [
    "data = pd.DataFrame({'Bank Name': bank_names, 'Market Cap (US$ Billion)': market_caps})"
   ]
  },
  {
   "cell_type": "code",
   "execution_count": 7,
   "id": "3618ae37",
   "metadata": {},
   "outputs": [
    {
     "name": "stdout",
     "output_type": "stream",
     "text": [
      "                                   Bank Name Market Cap (US$ Billion)\n",
      "0    Industrial and Commercial Bank of China                 4,027.44\n",
      "1                    China Construction Bank                 3,376.52\n",
      "2                 Agricultural Bank of China                 3,287.36\n",
      "3                              Bank of China                 3,092.21\n",
      "4             Mitsubishi UFJ Financial Group                 3,069.20\n",
      "..                                       ...                      ...\n",
      "96                                  Swedbank                   254.74\n",
      "97                                  BayernLB                   252.15\n",
      "98                  State Street Corporation                   244.60\n",
      "99                       China Zheshang Bank                   239.43\n",
      "100                                   Bankia                   237.77\n",
      "\n",
      "[101 rows x 2 columns]\n"
     ]
    }
   ],
   "source": [
    "print(data)"
   ]
  },
  {
   "cell_type": "code",
   "execution_count": null,
   "id": "8387ac26",
   "metadata": {},
   "outputs": [],
   "source": []
  }
 ],
 "metadata": {
  "kernelspec": {
   "display_name": "Python 3 (ipykernel)",
   "language": "python",
   "name": "python3"
  },
  "language_info": {
   "codemirror_mode": {
    "name": "ipython",
    "version": 3
   },
   "file_extension": ".py",
   "mimetype": "text/x-python",
   "name": "python",
   "nbconvert_exporter": "python",
   "pygments_lexer": "ipython3",
   "version": "3.10.9"
  }
 },
 "nbformat": 4,
 "nbformat_minor": 5
}
